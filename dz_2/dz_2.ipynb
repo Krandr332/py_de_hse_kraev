{
 "cells": [
  {
   "cell_type": "markdown",
   "id": "dd493d90",
   "metadata": {},
   "source": [
    "Задание 1"
   ]
  },
  {
   "cell_type": "code",
   "execution_count": 1,
   "id": "d8f66993",
   "metadata": {},
   "outputs": [
    {
     "name": "stdout",
     "output_type": "stream",
     "text": [
      "The Moscow Times: 2002-10-02 00:00:00\n",
      "The Guardian: 2013-10-11 00:00:00\n",
      "Daily News: 1977-08-18 00:00:00\n"
     ]
    }
   ],
   "source": [
    "from datetime import datetime\n",
    "\n",
    "data = [\n",
    "    \"The Moscow Times - Wednesday, October 2, 2002\",\n",
    "    \"The Guardian - Friday, 11.10.13\",\n",
    "    \"Daily News - Thursday, 18 August 1977\"\n",
    "]\n",
    "\n",
    "for date_str in data:\n",
    "    left, right = date_str.split(\" - \")\n",
    "\n",
    "    if \"Moscow\" in left:\n",
    "        format_str = \"%A, %B %d, %Y\"\n",
    "    elif \"Guardian\" in left:\n",
    "        format_str = \"%A, %d.%m.%y\"\n",
    "    elif \"Daily\" in left:\n",
    "        format_str = \"%A, %d %B %Y\"\n",
    "\n",
    "    dt_object = datetime.strptime(right, format_str)\n",
    "\n",
    "    print(f\"{left}: {dt_object}\")"
   ]
  },
  {
   "cell_type": "markdown",
   "id": "d8c7c754",
   "metadata": {},
   "source": [
    "Задание 2"
   ]
  },
  {
   "cell_type": "code",
   "execution_count": 2,
   "id": "58e4d54e",
   "metadata": {},
   "outputs": [
    {
     "name": "stdout",
     "output_type": "stream",
     "text": [
      "['2022-01-01', '2022-01-02', '2022-01-03']\n"
     ]
    }
   ],
   "source": [
    "from datetime import datetime, timedelta\n",
    "def date_range(start_date, end_date):\n",
    "    try:\n",
    "        start = datetime.strptime(start_date, '%Y-%m-%d')\n",
    "        end = datetime.strptime(end_date, '%Y-%m-%d')\n",
    "\n",
    "        if start > end:\n",
    "            return []\n",
    "\n",
    "        days = (end - start).days + 1\n",
    "        return [(start + timedelta(days=x)).strftime('%Y-%m-%d') for x in range(days)]\n",
    "\n",
    "    except ValueError:\n",
    "        return []\n",
    "print(date_range('2022-01-01', '2022-01-03'))\n"
   ]
  }
 ],
 "metadata": {
  "kernelspec": {
   "display_name": ".venv",
   "language": "python",
   "name": "python3"
  },
  "language_info": {
   "codemirror_mode": {
    "name": "ipython",
    "version": 3
   },
   "file_extension": ".py",
   "mimetype": "text/x-python",
   "name": "python",
   "nbconvert_exporter": "python",
   "pygments_lexer": "ipython3",
   "version": "3.13.5"
  }
 },
 "nbformat": 4,
 "nbformat_minor": 5
}

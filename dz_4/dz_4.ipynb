{
 "cells": [
  {
   "cell_type": "markdown",
   "id": "9201f070",
   "metadata": {},
   "source": [
    "Задание 1"
   ]
  },
  {
   "cell_type": "code",
   "execution_count": 28,
   "id": "5ff866af",
   "metadata": {},
   "outputs": [
    {
     "name": "stdout",
     "output_type": "stream",
     "text": [
      "Номер А222ВС валиден. Регион: 96.\n",
      "Номер не валиден.\n"
     ]
    }
   ],
   "source": [
    "import re\n",
    "\n",
    "def check_car_number(car_number: str):  #\n",
    "    letters = \"АВЕКМНОРСТУХ\"\n",
    "\n",
    "    pattern = rf'^[{letters}]\\d{{3}}[{letters}]{{2}}\\d{{2,3}}$'  \n",
    "    \n",
    "    match = re.match(pattern, car_number)\n",
    "    \n",
    "    if match:\n",
    "        number_part = car_number[:6]   \n",
    "        region = car_number[6:]       \n",
    "        \n",
    "        return f\"Номер {number_part} валиден. Регион: {region}.\"\n",
    "    else:\n",
    "        return \"Номер не валиден.\"\n",
    "\n",
    "\n",
    "\n",
    "print(check_car_number(\"А222ВС96\"))\n",
    "print(check_car_number(\"АБ22ВВ193\"))\n",
    "\n"
   ]
  },
  {
   "cell_type": "markdown",
   "id": "e8a7b443",
   "metadata": {},
   "source": [
    "Задание 2"
   ]
  },
  {
   "cell_type": "code",
   "execution_count": 27,
   "id": "794ca7ed",
   "metadata": {},
   "outputs": [
    {
     "name": "stdout",
     "output_type": "stream",
     "text": [
      "Напишите функцию, которая будет удалять все последовательные повторы слов из заданной строки при помощи регулярных выражений\n"
     ]
    }
   ],
   "source": [
    "import re\n",
    "\n",
    "def remove_duplicate(text):\n",
    "    while True:\n",
    "        new_text = re.sub(r'\\b(\\w+)(?:\\s+[.,;!?]?\\s*)\\1\\b', r'\\1', text)\n",
    "        if new_text == text:\n",
    "            break\n",
    "        text = new_text\n",
    "    return text\n",
    "\n",
    "some_string = 'Напишите функцию функцию, которая будет будет будет будет удалять все все все все последовательные повторы слов из из из из заданной строки строки при помощи регулярных выражений'\n",
    "\n",
    "print(remove_duplicate(some_string))"
   ]
  }
 ],
 "metadata": {
  "kernelspec": {
   "display_name": ".venv",
   "language": "python",
   "name": "python3"
  },
  "language_info": {
   "codemirror_mode": {
    "name": "ipython",
    "version": 3
   },
   "file_extension": ".py",
   "mimetype": "text/x-python",
   "name": "python",
   "nbconvert_exporter": "python",
   "pygments_lexer": "ipython3",
   "version": "3.13.5"
  }
 },
 "nbformat": 4,
 "nbformat_minor": 5
}

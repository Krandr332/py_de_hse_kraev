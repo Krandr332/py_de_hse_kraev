{
 "cells": [
  {
   "cell_type": "markdown",
   "id": "1707aab1",
   "metadata": {},
   "source": [
    "Задание 1"
   ]
  },
  {
   "cell_type": "code",
   "execution_count": null,
   "id": "0bc1f6b9",
   "metadata": {},
   "outputs": [
    {
     "name": "stdout",
     "output_type": "stream",
     "text": [
      "      Customer ID Popular Payment Method  Total sum  Add-on Total sum\n",
      "0            1000                 Paypal     741.09             26.09\n",
      "1            1002            Credit Card    5020.60             63.16\n",
      "2            1003                   Cash      41.50             35.56\n",
      "3            1004            Credit Card      83.00             65.78\n",
      "4            1005                 Paypal   11779.11             75.33\n",
      "...           ...                    ...        ...               ...\n",
      "9461        19990                 PayPal    9117.44            113.56\n",
      "9462        19991            Credit Card   12368.06              0.00\n",
      "9463        19995            Credit Card    5394.56              0.00\n",
      "9464        19996          Bank Transfer   12063.02            198.98\n",
      "9465        19998          Bank Transfer     674.32              0.00\n",
      "\n",
      "[9466 rows x 4 columns]\n"
     ]
    }
   ],
   "source": [
    "import pandas as pd\n",
    "\n",
    "data = pd.read_csv('Electronic_sales_Sep2023-Sep2024.csv')\n",
    "\n",
    "completed_data = data[data['Order Status'] == 'Completed']\n",
    "popular_payments = completed_data.groupby('Customer ID')['Payment Method'].apply(\n",
    "    lambda x: x.value_counts().index[0]\n",
    ")\n",
    "total_sums = completed_data.groupby('Customer ID')['Total Price'].sum()\n",
    "add_total_sums = completed_data.groupby('Customer ID')['Add-on Total'].sum()\n",
    "\n",
    "output = pd.DataFrame({\n",
    "    'Popular Payment Method': popular_payments,\n",
    "    'Total sum': total_sums,\n",
    "    'Add-on Total': add_total_sums\n",
    "\n",
    "}).reset_index()\n",
    "\n",
    "\n",
    "output.columns = ['Customer ID', 'Popular Payment Method', 'Total sum','Add-on Total sum']\n",
    "print(output)"
   ]
  },
  {
   "cell_type": "markdown",
   "id": "cfbe6b62",
   "metadata": {},
   "source": [
    "Задание 2"
   ]
  },
  {
   "cell_type": "code",
   "execution_count": 33,
   "id": "14c4c9a9",
   "metadata": {},
   "outputs": [
    {
     "name": "stdout",
     "output_type": "stream",
     "text": [
      "  Shipping Type  Total Price\n",
      "0     Expedited   8430385.58\n",
      "1       Express   5632093.35\n",
      "2     Overnight   5887722.52\n",
      "3      Same Day   8292376.50\n",
      "4      Standard  14387037.62\n"
     ]
    }
   ],
   "source": [
    "\"\"\" ДОХОД ПО КАЖДОМУ МЕТОДУ ДОСТАВКИ\"\"\"\n",
    "import pandas as pd\n",
    "\n",
    "data = pd.read_csv('Electronic_sales_Sep2023-Sep2024.csv')\n",
    "\n",
    "completed_data = data[data['Order Status'] == 'Completed']\n",
    "\n",
    "output = completed_data.groupby(\"Shipping Type\")[\"Total Price\"].apply(\n",
    "    lambda x: x.sum()\n",
    ").reset_index()\n",
    "print(output)"
   ]
  },
  {
   "cell_type": "code",
   "execution_count": 34,
   "id": "bfb954b2",
   "metadata": {},
   "outputs": [
    {
     "name": "stdout",
     "output_type": "stream",
     "text": [
      "  Product Type  Total Price\n",
      "0   Headphones   2734651.00\n",
      "1       Laptop   8365905.25\n",
      "2   Smartphone  14407835.84\n",
      "3   Smartwatch   9398591.23\n",
      "4       Tablet   7722632.25\n"
     ]
    }
   ],
   "source": [
    "\"\"\"ДОХОД ПО ТИПУ ПРОДУКТА\"\"\"\n",
    "import pandas as pd\n",
    "\n",
    "data = pd.read_csv('Electronic_sales_Sep2023-Sep2024.csv')\n",
    "\n",
    "completed_data = data[data['Order Status'] == 'Completed']\n",
    "\n",
    "output = completed_data.groupby(\"Product Type\")[\"Total Price\"].apply(\n",
    "    lambda x: x.sum()\n",
    ").reset_index()\n",
    "print(output)"
   ]
  },
  {
   "cell_type": "code",
   "execution_count": 47,
   "id": "48fc9c08",
   "metadata": {},
   "outputs": [
    {
     "name": "stdout",
     "output_type": "stream",
     "text": [
      "   Purchase Date  Add-on Total\n",
      "0        2023-09       8012.62\n",
      "1        2023-10      37837.12\n",
      "2        2023-11      34888.81\n",
      "3        2023-12      33509.15\n",
      "4        2024-01     136195.16\n",
      "5        2024-02     120148.92\n",
      "6        2024-03     124954.26\n",
      "7        2024-04     123973.59\n",
      "8        2024-05     132018.51\n",
      "9        2024-06     126689.59\n",
      "10       2024-07     132017.20\n",
      "11       2024-08     135133.14\n",
      "12       2024-09      99518.89\n"
     ]
    }
   ],
   "source": [
    "\"\"\"ДОХОД ПО ДОП УСЛУГАМ ЗА КАЖДЫЙ МЕСЯЦ\"\"\"\n",
    "import pandas as pd\n",
    "\n",
    "data = pd.read_csv('Electronic_sales_Sep2023-Sep2024.csv')\n",
    "output_month = data.groupby(\n",
    "    data['Purchase Date'].str[:7])\\\n",
    "[\"Add-on Total\"].apply(lambda x: x.sum()).reset_index()\n",
    "print(output_month)\n",
    "\n"
   ]
  },
  {
   "cell_type": "code",
   "execution_count": null,
   "id": "c4cbf7d6",
   "metadata": {},
   "outputs": [
    {
     "name": "stdout",
     "output_type": "stream",
     "text": [
      "Квартал  Доход по доп. услугам\n",
      " 2023Q3                8012.62\n",
      " 2023Q4              106235.08\n",
      " 2024Q1              381298.34\n",
      " 2024Q2              382681.69\n",
      " 2024Q3              366669.23\n"
     ]
    }
   ],
   "source": [
    "\"\"\"ДОХОД ПО ДОП УСЛУГАМ ЗА КВАРТАЛ\"\"\"\n",
    "import pandas as pd\n",
    "\n",
    "data = pd.read_csv('Electronic_sales_Sep2023-Sep2024.csv')\n",
    "\n",
    "data['Purchase Date'] = pd.to_datetime(data['Purchase Date'])\n",
    "\n",
    "quarterly_revenue = data.groupby(data['Purchase Date'].dt.to_period('Q'))['Add-on Total'].sum().reset_index()\n",
    "\n",
    "quarterly_revenue.columns = ['Квартал', 'Доход по доп. услугам']\n",
    "quarterly_revenue['Доход по доп. услугам'] = quarterly_revenue['Доход по доп. услугам'].round(2)\n",
    "\n",
    "print(quarterly_revenue.to_string(index=False))"
   ]
  }
 ],
 "metadata": {
  "kernelspec": {
   "display_name": ".venv",
   "language": "python",
   "name": "python3"
  },
  "language_info": {
   "codemirror_mode": {
    "name": "ipython",
    "version": 3
   },
   "file_extension": ".py",
   "mimetype": "text/x-python",
   "name": "python",
   "nbconvert_exporter": "python",
   "pygments_lexer": "ipython3",
   "version": "3.13.5"
  }
 },
 "nbformat": 4,
 "nbformat_minor": 5
}
